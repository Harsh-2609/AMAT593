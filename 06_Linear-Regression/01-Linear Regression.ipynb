{
 "cells": [
  {
   "cell_type": "markdown",
   "metadata": {},
   "source": [
    "# Linear Regression\n",
    "\n",
    "## Basics\n",
    "linear regression is a linear approach for modelling the relationship between a scalar response $y$ (dependent variable) and a set of independent variables $\\{x_1, \\dots, x_p\\}$.\n",
    "\n",
    "$$\n",
    "y = \\sum_{i=1}^p \\beta_i x_i + \\beta_0 + \\varepsilon, \\quad \\varepsilon \\sim \\mathcal{N}(0,\\sigma^2)\n",
    "$$\n",
    "\n",
    "$\\beta_0$ is called bias/intercept, other $\\beta_i$'s are coefficients. This relationship is modeled through an error variable $\\varepsilon$ — an unobserved random variable that adds \"noise\" to the linear relationship between the dependent variable and regressors. \n",
    "\n",
    "### Matrix Form\n",
    "The goal is to learn $\\beta_i$'s from $n$ samples of pair $\\{\\mathbf{x}_j, y_j\\}_{j=1}^n$, by assuming\n",
    "\n",
    "$$\n",
    "y_j =  \\mathbf{x}_j^\\top \\boldsymbol\\beta + \\varepsilon_j, \\quad j = 1, \\dots, n\n",
    "$$\n",
    "\n",
    "with $\\mathbf{x}_j=(1, x_{j,1}, \\dots, x_{j,p})^\\top\\in\\mathbb{R}^{p+1}$, $\\boldsymbol\\beta = (\\beta_0, \\beta_1,\\dots, \\beta_p)^\\top\\in\\mathbb{R}^{p+1}$. $x_{j,1}, \\dots, x_{j,p}$ are the $p$ features of the $j$-th sample.\n",
    "\n",
    "Stack the $n$ equations together and write in matrix notation as\n",
    "\n",
    "$$\n",
    "\\mathbf{y} = \\mathbf{X} \\boldsymbol\\beta + \\boldsymbol\\varepsilon\n",
    "$$\n",
    "\n",
    "where $\\mathbf{y} = (y_1,\\dots,y_n)^\\top$, $\\mathbf{X} = (\\mathbf{x}_1, \\dots, \\mathbf{x}_n)^\\top\\in\\mathbb{R}^{n\\times (p+1)}$. Each row of $\\mathbf{X}$ represents a sample $\\mathbf{x}_j)^\\top$.\n",
    "\n",
    "\n",
    "### Least Squares Estimation\n",
    "\n",
    "$$\n",
    "\\boldsymbol\\beta^* = \\arg\\min_{\\boldsymbol\\beta\\in\\mathbb{R}^{p+1}} \\; L(\\boldsymbol\\beta) :=\n",
    "\\|\\mathbf{X} \\boldsymbol\\beta - \\mathbf{y} \\|^2 = \\sum_{j=1}^n \\; (\\mathbf{x}_j^\\top \\boldsymbol\\beta  - y_j)^2\n",
    "$$\n",
    "\n",
    "Closed-form solution by setting \n",
    "$\\nabla L(\\boldsymbol\\beta^*) = \\mathbf{X}^\\top(\\mathbf{X} \\boldsymbol\\beta^* - \\mathbf{y}) = \\mathbf{0}$, then\n",
    "\n",
    "$$\n",
    "\\boldsymbol\\beta^* = (\\mathbf{X}^\\top \\mathbf{X})^{-1} \\mathbf{X}^\\top \\mathbf{y}\n",
    "$$\n",
    "\n",
    "#### Prediction \n",
    "For any sample $\\mathbf{x} = (1, x_1,\\dots, x_p)^\\top$, the prediction is\n",
    "\n",
    "$$\n",
    "\\hat{y} =  \\mathbf{x}^\\top \\boldsymbol\\beta^*\n",
    "$$\n",
    "\n",
    "For a set of $N$ samples with data matrix $\\mathbf{X}$, the predictions are\n",
    "\n",
    "$$\n",
    "\\hat{\\mathbf{y}} =  \\mathbf{X} \\boldsymbol\\beta^*\n",
    "$$\n",
    "\n",
    "#### Mean Squared Error\n",
    "\n",
    "Mean Squared Error (MSE) measures the discrepancy between true respose $\\mathbf{y}$ and the predicted vaules $\\hat{\\mathbf{y}}$:\n",
    "\n",
    "$$\n",
    "\\mbox{MSE}\\, (\\hat{\\mathbf{y}}, \\mathbf{y}) \n",
    "= \\frac{1}{N} \\sum_{i=1}^N \\, (\\hat{y}_i - y_i)^2\n",
    "$$\n",
    "\n",
    "### Regularization Variants\n",
    "\n",
    "#### Ridge Regression \n",
    "$$\n",
    "\\min_{\\boldsymbol\\beta\\in\\mathbb{R}^{p+1}} \\; \\frac{1}{2}\\|\\mathbf{X} \\boldsymbol\\beta - \\mathbf{y} \\|^2 + \\lambda \\|\\boldsymbol\\beta\\|^2\n",
    "$$\n",
    "with the closed-form solution:\n",
    "\n",
    "$$\n",
    "\\boldsymbol\\beta^* = (\\mathbf{X}^\\top \\mathbf{X} + \\lambda \\mathbf{I})^{-1} \\mathbf{X}^\\top \\mathbf{y}\n",
    "$$\n",
    "\n",
    "#### LASSO Regression\n",
    "\n",
    "[LASSO](https://en.wikipedia.org/wiki/Lasso_(statistics)) (least absolute shrinkage and selection operator) is famous for feature selection, as $\\ell_1$ penalty yeilds **sparse** $\\boldsymbol\\beta$ solution:\n",
    "\n",
    "$$\n",
    "\\min_{\\boldsymbol\\beta\\in\\mathbb{R}^{p+1}} \\; \\frac{1}{2}\\|\\mathbf{X} \\boldsymbol\\beta - \\mathbf{y} \\|^2 + \\lambda \\|\\boldsymbol\\beta\\|_1\n",
    "$$\n",
    "with no closed-form solution.\n",
    "\n",
    "With increasing value of $\\lambda$ which means increasing regularization strength, the absolute values of weights would need to decrease (shrink) to keep the overall value of loss function minimized. The optimization of LASSO loss function results in some of the weights becoming zero and hence can be seen as method of selection of the features. Pay attention to usage of words, shrinkage, selection and absolute. This is why LASSO is termed as Least absolute shrinkage and selection operator."
   ]
  },
  {
   "cell_type": "markdown",
   "metadata": {},
   "source": [
    "## Implementation with Python\n",
    "\n",
    "We implement linear regression with Python and create a class of model called `LinearReg`. Resembling ``sklearn``, we also add object-oriented methods such as ``fit`` and ``predict``."
   ]
  },
  {
   "cell_type": "markdown",
   "metadata": {},
   "source": [
    "**Underscore before the function name is how we declare a method to be private in Python**"
   ]
  },
  {
   "cell_type": "code",
   "execution_count": 121,
   "metadata": {},
   "outputs": [],
   "source": [
    "class LinearReg(object):\n",
    "    \n",
    "    def __int__(self):\n",
    "        if len(X.shape) == 1: # if X is 1D array, convert X into 2D array\n",
    "            X  = self._reshape_x(X) \n",
    "            \n",
    "        self.params = []\n",
    "        \n",
    "    def fit(self, X, y):  \n",
    "        X = self._concatenate_ones(X)\n",
    "        self.params = np.linalg.inv(X.transpose().dot(X)).dot(X.transpose()).dot(y)\n",
    "        \n",
    "    def predict(self, X):\n",
    "        bias = self.params[0]\n",
    "        coeff = self.params[1:]\n",
    "        y_preds = []\n",
    "            \n",
    "        for x in X:\n",
    "            y_preds.append(x.dot(coeff) + bias)\n",
    "            \n",
    "        return y_preds\n",
    "    \n",
    "    def mse(self, y_preds, y):\n",
    "        return np.mean((y-y_preds)**2)\n",
    "        \n",
    "    def mae(self, y_preds, y):\n",
    "        return np.mean(np.abs(y-y_preds))\n",
    "    \n",
    "    def rmse(self, y_preds, y):\n",
    "        return np.sqrt(self.mse(y_preds, y))\n",
    "        \n",
    "    def _reshape_x(self, X):\n",
    "        return X.reshape(1,-1) \n",
    "    \n",
    "    def _concatenate_ones(self, X):\n",
    "        ones = np.ones(shape=X.shape[0]).reshape(-1,1)\n",
    "        return np.concatenate((ones, X), axis = 1)"
   ]
  },
  {
   "cell_type": "markdown",
   "metadata": {},
   "source": [
    "## Boston Housing Dataset\n",
    "\n",
    "\n",
    "The Boston Housing Dataset is a ``sklearn`` built-in dataset. It is a derived from information collected by the U.S. Census Service concerning housing in the area of Boston MA. \n",
    "\n",
    "The following describes the dataset columns:\n",
    "\n",
    "* CRIM - per capita crime rate by town\n",
    "\n",
    "* ZN - proportion of residential land zoned for lots over 25,000 sq.ft.\n",
    "\n",
    "* INDUS - proportion of non-retail business acres per town.\n",
    "\n",
    "* CHAS - Charles River dummy variable (1 if tract bounds river; 0 otherwise)\n",
    "\n",
    "* NOX - nitric oxides concentration (parts per 10 million)\n",
    "\n",
    "* RM - average number of rooms per dwelling\n",
    "\n",
    "* AGE - proportion of owner-occupied units built prior to 1940\n",
    "\n",
    "* DIS - weighted distances to five Boston employment centres\n",
    "\n",
    "* RAD - index of accessibility to radial highways\n",
    "\n",
    "* TAX - full-value property-tax rate per $10,000\n",
    "\n",
    "* PTRATIO - pupil-teacher ratio by town\n",
    "\n",
    "* B - 1000(Bk - 0.63)^2 where Bk is the proportion of blacks by town\n",
    "\n",
    "* LSTAT - % lower status of the population\n",
    "\n",
    "* MEDV - Median value of owner-occupied homes in $1000's\n",
    "\n",
    "### Import Libraries"
   ]
  },
  {
   "cell_type": "code",
   "execution_count": 2,
   "metadata": {},
   "outputs": [],
   "source": [
    "import pandas as pd\n",
    "import numpy as np\n",
    "from sklearn import datasets\n",
    "import matplotlib.pyplot as plt\n",
    "import seaborn as sns; sns.set()\n",
    "%matplotlib inline"
   ]
  },
  {
   "cell_type": "markdown",
   "metadata": {},
   "source": [
    "### Check out the Data"
   ]
  },
  {
   "cell_type": "code",
   "execution_count": 3,
   "metadata": {},
   "outputs": [],
   "source": [
    "bh = datasets.load_boston()"
   ]
  },
  {
   "cell_type": "code",
   "execution_count": 4,
   "metadata": {},
   "outputs": [
    {
     "data": {
      "text/html": [
       "<div>\n",
       "<style scoped>\n",
       "    .dataframe tbody tr th:only-of-type {\n",
       "        vertical-align: middle;\n",
       "    }\n",
       "\n",
       "    .dataframe tbody tr th {\n",
       "        vertical-align: top;\n",
       "    }\n",
       "\n",
       "    .dataframe thead th {\n",
       "        text-align: right;\n",
       "    }\n",
       "</style>\n",
       "<table border=\"1\" class=\"dataframe\">\n",
       "  <thead>\n",
       "    <tr style=\"text-align: right;\">\n",
       "      <th></th>\n",
       "      <th>CRIM</th>\n",
       "      <th>ZN</th>\n",
       "      <th>INDUS</th>\n",
       "      <th>CHAS</th>\n",
       "      <th>NOX</th>\n",
       "      <th>RM</th>\n",
       "      <th>AGE</th>\n",
       "      <th>DIS</th>\n",
       "      <th>RAD</th>\n",
       "      <th>TAX</th>\n",
       "      <th>PTRATIO</th>\n",
       "      <th>B</th>\n",
       "      <th>LSTAT</th>\n",
       "    </tr>\n",
       "  </thead>\n",
       "  <tbody>\n",
       "    <tr>\n",
       "      <td>0</td>\n",
       "      <td>0.00632</td>\n",
       "      <td>18.0</td>\n",
       "      <td>2.31</td>\n",
       "      <td>0.0</td>\n",
       "      <td>0.538</td>\n",
       "      <td>6.575</td>\n",
       "      <td>65.2</td>\n",
       "      <td>4.0900</td>\n",
       "      <td>1.0</td>\n",
       "      <td>296.0</td>\n",
       "      <td>15.3</td>\n",
       "      <td>396.90</td>\n",
       "      <td>4.98</td>\n",
       "    </tr>\n",
       "    <tr>\n",
       "      <td>1</td>\n",
       "      <td>0.02731</td>\n",
       "      <td>0.0</td>\n",
       "      <td>7.07</td>\n",
       "      <td>0.0</td>\n",
       "      <td>0.469</td>\n",
       "      <td>6.421</td>\n",
       "      <td>78.9</td>\n",
       "      <td>4.9671</td>\n",
       "      <td>2.0</td>\n",
       "      <td>242.0</td>\n",
       "      <td>17.8</td>\n",
       "      <td>396.90</td>\n",
       "      <td>9.14</td>\n",
       "    </tr>\n",
       "    <tr>\n",
       "      <td>2</td>\n",
       "      <td>0.02729</td>\n",
       "      <td>0.0</td>\n",
       "      <td>7.07</td>\n",
       "      <td>0.0</td>\n",
       "      <td>0.469</td>\n",
       "      <td>7.185</td>\n",
       "      <td>61.1</td>\n",
       "      <td>4.9671</td>\n",
       "      <td>2.0</td>\n",
       "      <td>242.0</td>\n",
       "      <td>17.8</td>\n",
       "      <td>392.83</td>\n",
       "      <td>4.03</td>\n",
       "    </tr>\n",
       "    <tr>\n",
       "      <td>3</td>\n",
       "      <td>0.03237</td>\n",
       "      <td>0.0</td>\n",
       "      <td>2.18</td>\n",
       "      <td>0.0</td>\n",
       "      <td>0.458</td>\n",
       "      <td>6.998</td>\n",
       "      <td>45.8</td>\n",
       "      <td>6.0622</td>\n",
       "      <td>3.0</td>\n",
       "      <td>222.0</td>\n",
       "      <td>18.7</td>\n",
       "      <td>394.63</td>\n",
       "      <td>2.94</td>\n",
       "    </tr>\n",
       "    <tr>\n",
       "      <td>4</td>\n",
       "      <td>0.06905</td>\n",
       "      <td>0.0</td>\n",
       "      <td>2.18</td>\n",
       "      <td>0.0</td>\n",
       "      <td>0.458</td>\n",
       "      <td>7.147</td>\n",
       "      <td>54.2</td>\n",
       "      <td>6.0622</td>\n",
       "      <td>3.0</td>\n",
       "      <td>222.0</td>\n",
       "      <td>18.7</td>\n",
       "      <td>396.90</td>\n",
       "      <td>5.33</td>\n",
       "    </tr>\n",
       "    <tr>\n",
       "      <td>5</td>\n",
       "      <td>0.02985</td>\n",
       "      <td>0.0</td>\n",
       "      <td>2.18</td>\n",
       "      <td>0.0</td>\n",
       "      <td>0.458</td>\n",
       "      <td>6.430</td>\n",
       "      <td>58.7</td>\n",
       "      <td>6.0622</td>\n",
       "      <td>3.0</td>\n",
       "      <td>222.0</td>\n",
       "      <td>18.7</td>\n",
       "      <td>394.12</td>\n",
       "      <td>5.21</td>\n",
       "    </tr>\n",
       "    <tr>\n",
       "      <td>6</td>\n",
       "      <td>0.08829</td>\n",
       "      <td>12.5</td>\n",
       "      <td>7.87</td>\n",
       "      <td>0.0</td>\n",
       "      <td>0.524</td>\n",
       "      <td>6.012</td>\n",
       "      <td>66.6</td>\n",
       "      <td>5.5605</td>\n",
       "      <td>5.0</td>\n",
       "      <td>311.0</td>\n",
       "      <td>15.2</td>\n",
       "      <td>395.60</td>\n",
       "      <td>12.43</td>\n",
       "    </tr>\n",
       "    <tr>\n",
       "      <td>7</td>\n",
       "      <td>0.14455</td>\n",
       "      <td>12.5</td>\n",
       "      <td>7.87</td>\n",
       "      <td>0.0</td>\n",
       "      <td>0.524</td>\n",
       "      <td>6.172</td>\n",
       "      <td>96.1</td>\n",
       "      <td>5.9505</td>\n",
       "      <td>5.0</td>\n",
       "      <td>311.0</td>\n",
       "      <td>15.2</td>\n",
       "      <td>396.90</td>\n",
       "      <td>19.15</td>\n",
       "    </tr>\n",
       "    <tr>\n",
       "      <td>8</td>\n",
       "      <td>0.21124</td>\n",
       "      <td>12.5</td>\n",
       "      <td>7.87</td>\n",
       "      <td>0.0</td>\n",
       "      <td>0.524</td>\n",
       "      <td>5.631</td>\n",
       "      <td>100.0</td>\n",
       "      <td>6.0821</td>\n",
       "      <td>5.0</td>\n",
       "      <td>311.0</td>\n",
       "      <td>15.2</td>\n",
       "      <td>386.63</td>\n",
       "      <td>29.93</td>\n",
       "    </tr>\n",
       "    <tr>\n",
       "      <td>9</td>\n",
       "      <td>0.17004</td>\n",
       "      <td>12.5</td>\n",
       "      <td>7.87</td>\n",
       "      <td>0.0</td>\n",
       "      <td>0.524</td>\n",
       "      <td>6.004</td>\n",
       "      <td>85.9</td>\n",
       "      <td>6.5921</td>\n",
       "      <td>5.0</td>\n",
       "      <td>311.0</td>\n",
       "      <td>15.2</td>\n",
       "      <td>386.71</td>\n",
       "      <td>17.10</td>\n",
       "    </tr>\n",
       "  </tbody>\n",
       "</table>\n",
       "</div>"
      ],
      "text/plain": [
       "      CRIM    ZN  INDUS  CHAS    NOX     RM    AGE     DIS  RAD    TAX  \\\n",
       "0  0.00632  18.0   2.31   0.0  0.538  6.575   65.2  4.0900  1.0  296.0   \n",
       "1  0.02731   0.0   7.07   0.0  0.469  6.421   78.9  4.9671  2.0  242.0   \n",
       "2  0.02729   0.0   7.07   0.0  0.469  7.185   61.1  4.9671  2.0  242.0   \n",
       "3  0.03237   0.0   2.18   0.0  0.458  6.998   45.8  6.0622  3.0  222.0   \n",
       "4  0.06905   0.0   2.18   0.0  0.458  7.147   54.2  6.0622  3.0  222.0   \n",
       "5  0.02985   0.0   2.18   0.0  0.458  6.430   58.7  6.0622  3.0  222.0   \n",
       "6  0.08829  12.5   7.87   0.0  0.524  6.012   66.6  5.5605  5.0  311.0   \n",
       "7  0.14455  12.5   7.87   0.0  0.524  6.172   96.1  5.9505  5.0  311.0   \n",
       "8  0.21124  12.5   7.87   0.0  0.524  5.631  100.0  6.0821  5.0  311.0   \n",
       "9  0.17004  12.5   7.87   0.0  0.524  6.004   85.9  6.5921  5.0  311.0   \n",
       "\n",
       "   PTRATIO       B  LSTAT  \n",
       "0     15.3  396.90   4.98  \n",
       "1     17.8  396.90   9.14  \n",
       "2     17.8  392.83   4.03  \n",
       "3     18.7  394.63   2.94  \n",
       "4     18.7  396.90   5.33  \n",
       "5     18.7  394.12   5.21  \n",
       "6     15.2  395.60  12.43  \n",
       "7     15.2  396.90  19.15  \n",
       "8     15.2  386.63  29.93  \n",
       "9     15.2  386.71  17.10  "
      ]
     },
     "execution_count": 4,
     "metadata": {},
     "output_type": "execute_result"
    }
   ],
   "source": [
    "X = pd.DataFrame(data = bh.data, columns = bh.feature_names)\n",
    "y = pd.DataFrame(data = bh.target, columns = ['MEDV'])\n",
    "X.head(10)"
   ]
  },
  {
   "cell_type": "code",
   "execution_count": 23,
   "metadata": {},
   "outputs": [
    {
     "data": {
      "text/html": [
       "<div>\n",
       "<style scoped>\n",
       "    .dataframe tbody tr th:only-of-type {\n",
       "        vertical-align: middle;\n",
       "    }\n",
       "\n",
       "    .dataframe tbody tr th {\n",
       "        vertical-align: top;\n",
       "    }\n",
       "\n",
       "    .dataframe thead th {\n",
       "        text-align: right;\n",
       "    }\n",
       "</style>\n",
       "<table border=\"1\" class=\"dataframe\">\n",
       "  <thead>\n",
       "    <tr style=\"text-align: right;\">\n",
       "      <th></th>\n",
       "      <th>MEDV</th>\n",
       "    </tr>\n",
       "  </thead>\n",
       "  <tbody>\n",
       "    <tr>\n",
       "      <td>0</td>\n",
       "      <td>24.0</td>\n",
       "    </tr>\n",
       "    <tr>\n",
       "      <td>1</td>\n",
       "      <td>21.6</td>\n",
       "    </tr>\n",
       "    <tr>\n",
       "      <td>2</td>\n",
       "      <td>34.7</td>\n",
       "    </tr>\n",
       "    <tr>\n",
       "      <td>3</td>\n",
       "      <td>33.4</td>\n",
       "    </tr>\n",
       "    <tr>\n",
       "      <td>4</td>\n",
       "      <td>36.2</td>\n",
       "    </tr>\n",
       "    <tr>\n",
       "      <td>5</td>\n",
       "      <td>28.7</td>\n",
       "    </tr>\n",
       "    <tr>\n",
       "      <td>6</td>\n",
       "      <td>22.9</td>\n",
       "    </tr>\n",
       "    <tr>\n",
       "      <td>7</td>\n",
       "      <td>27.1</td>\n",
       "    </tr>\n",
       "    <tr>\n",
       "      <td>8</td>\n",
       "      <td>16.5</td>\n",
       "    </tr>\n",
       "    <tr>\n",
       "      <td>9</td>\n",
       "      <td>18.9</td>\n",
       "    </tr>\n",
       "  </tbody>\n",
       "</table>\n",
       "</div>"
      ],
      "text/plain": [
       "   MEDV\n",
       "0  24.0\n",
       "1  21.6\n",
       "2  34.7\n",
       "3  33.4\n",
       "4  36.2\n",
       "5  28.7\n",
       "6  22.9\n",
       "7  27.1\n",
       "8  16.5\n",
       "9  18.9"
      ]
     },
     "execution_count": 23,
     "metadata": {},
     "output_type": "execute_result"
    }
   ],
   "source": [
    "y.head(10)"
   ]
  },
  {
   "cell_type": "code",
   "execution_count": 24,
   "metadata": {},
   "outputs": [
    {
     "name": "stdout",
     "output_type": "stream",
     "text": [
      "(506, 13)\n"
     ]
    }
   ],
   "source": [
    "print(X.shape)"
   ]
  },
  {
   "cell_type": "markdown",
   "metadata": {},
   "source": [
    "# Plotting"
   ]
  },
  {
   "cell_type": "code",
   "execution_count": 33,
   "metadata": {},
   "outputs": [
    {
     "data": {
      "image/png": "[encoded data removed]",
      "text/plain": [
       "<Figure size 864x864 with 2 Axes>"
      ]
     },
     "metadata": {
      "needs_background": "light"
     },
     "output_type": "display_data"
    }
   ],
   "source": [
    "# correlation matrix of features\n",
    "plt.figure(figsize = (12,12))\n",
    "ax = sns.heatmap(X.corr(),annot=True)\n",
    "ax.set_aspect(\"equal\")"
   ]
  },
  {
   "cell_type": "code",
   "execution_count": 34,
   "metadata": {},
   "outputs": [
    {
     "data": {
      "text/plain": [
       "<matplotlib.axes._subplots.AxesSubplot at 0x7ff936663f10>"
      ]
     },
     "execution_count": 34,
     "metadata": {},
     "output_type": "execute_result"
    },
    {
     "data": {
      "image/png": "[encoded data removed]",
      "text/plain": [
       "<Figure size 432x288 with 1 Axes>"
      ]
     },
     "metadata": {
      "needs_background": "light"
     },
     "output_type": "display_data"
    }
   ],
   "source": [
    "# distribution plot\n",
    "sns.histplot(y, kde = True)"
   ]
  },
  {
   "cell_type": "markdown",
   "metadata": {},
   "source": [
    "## Train Test Split\n",
    "\n",
    "Now let's split the data into a training set and a testing set. We will train out model on the training set and then use the test set to evaluate the model."
   ]
  },
  {
   "cell_type": "code",
   "execution_count": 11,
   "metadata": {},
   "outputs": [],
   "source": [
    "# import module to split the data\n",
    "from sklearn.model_selection import train_test_split\n",
    "# X - argument relates to the features\n",
    "# y - argument relates to the labels\n",
    "# test_size - 20% of dataset is used for testing, 80% for training\n",
    "X_train, X_test, y_train, y_test = train_test_split(X, y, test_size=0.2, random_state=101)"
   ]
  },
  {
   "cell_type": "markdown",
   "metadata": {},
   "source": [
    "**The data is stored in DataFrames**"
   ]
  },
  {
   "cell_type": "code",
   "execution_count": 12,
   "metadata": {},
   "outputs": [
    {
     "name": "stdout",
     "output_type": "stream",
     "text": [
      "<class 'pandas.core.frame.DataFrame'>\n",
      "(404, 13) (404, 1)\n",
      "(102, 13) (102, 1)\n"
     ]
    }
   ],
   "source": [
    "print(type(X_train))\n",
    "print(X_train.shape, y_train.shape)\n",
    "print(X_test.shape, y_test.shape)"
   ]
  },
  {
   "cell_type": "markdown",
   "metadata": {},
   "source": [
    "## 1. Our Own Implementation "
   ]
  },
  {
   "cell_type": "code",
   "execution_count": 37,
   "metadata": {},
   "outputs": [],
   "source": [
    "class LinearReg(object):\n",
    "    \n",
    "    def __int__(self):\n",
    "        if len(X.shape) == 1: # if X is 1D array, convert X into 2D array\n",
    "            X  = self._reshape_x(X) \n",
    "        self.params = []\n",
    "        \n",
    "    def fit(self, X, y):\n",
    "        \n",
    "        X = self._concatenate_ones(X)\n",
    "        self.params = np.linalg.inv(X.transpose().dot(X)).dot(X.transpose()).dot(y)\n",
    "        \n",
    "    def predict(self, X):\n",
    "        bias = self.params[0]\n",
    "        coeff = self.params[1:]\n",
    "        y_preds = []\n",
    "            \n",
    "        for x in X:\n",
    "            y_preds.append(x.dot(coeff) + bias)\n",
    "            \n",
    "        return y_preds\n",
    "    \n",
    "    def mse(self, y_preds, y):\n",
    "        return np.mean((y-y_preds)**2)\n",
    "    \n",
    "    def mae(self, y_preds, y):\n",
    "        return np.mean(np.abs(y-y_preds))\n",
    "    \n",
    "    def rmse(self, y_preds, y):\n",
    "        return np.sqrt(self.mse(y_preds, y))\n",
    "        \n",
    "    def _reshape_x(self, X):\n",
    "        return X.reshape(1,-1) \n",
    "    \n",
    "    def _concatenate_ones(self, X):\n",
    "        ones = np.ones(shape=X.shape[0]).reshape(-1,1)\n",
    "        return np.concatenate((ones, X), axis = 1)"
   ]
  },
  {
   "cell_type": "markdown",
   "metadata": {},
   "source": [
    "**Convert dataframes into numpy arrays**"
   ]
  },
  {
   "cell_type": "code",
   "execution_count": 38,
   "metadata": {},
   "outputs": [],
   "source": [
    "X_tr, y_tr = np.array(X_train), np.array(y_train)\n",
    "X_te, y_te = np.array(X_test), np.array(y_test)"
   ]
  },
  {
   "cell_type": "markdown",
   "metadata": {},
   "source": [
    "**Fit the model**"
   ]
  },
  {
   "cell_type": "code",
   "execution_count": 39,
   "metadata": {},
   "outputs": [],
   "source": [
    "ols = LinearReg()\n",
    "ols.fit(X_tr, y_tr)"
   ]
  },
  {
   "cell_type": "code",
   "execution_count": 40,
   "metadata": {},
   "outputs": [
    {
     "data": {
      "text/plain": [
       "array([[ 3.29061309e+01],\n",
       "       [-9.89913563e-02],\n",
       "       [ 4.25047578e-02],\n",
       "       [ 1.67390094e-02],\n",
       "       [ 3.06437882e+00],\n",
       "       [-1.56462528e+01],\n",
       "       [ 4.01888422e+00],\n",
       "       [-8.31558474e-04],\n",
       "       [-1.44628034e+00],\n",
       "       [ 2.67827281e-01],\n",
       "       [-1.04725485e-02],\n",
       "       [-8.88651815e-01],\n",
       "       [ 8.25262805e-03],\n",
       "       [-5.49367192e-01]])"
      ]
     },
     "execution_count": 40,
     "metadata": {},
     "output_type": "execute_result"
    }
   ],
   "source": [
    "ols.params"
   ]
  },
  {
   "cell_type": "markdown",
   "metadata": {},
   "source": [
    "**Make predictions for test set**"
   ]
  },
  {
   "cell_type": "code",
   "execution_count": 41,
   "metadata": {},
   "outputs": [
    {
     "name": "stdout",
     "output_type": "stream",
     "text": [
      "[40.38909533]\n",
      "[50.]\n"
     ]
    }
   ],
   "source": [
    "y_preds = ols.predict(X_te)\n",
    "print(y_preds[0])\n",
    "print(y_te[0])"
   ]
  },
  {
   "cell_type": "code",
   "execution_count": 42,
   "metadata": {},
   "outputs": [
    {
     "name": "stdout",
     "output_type": "stream",
     "text": [
      "Mean Absolute Error on test set is 3.9994042530538643\n",
      "Mean Squared Error on test set is 33.26891855791997\n",
      "Root Mean Squared Error on test set is 5.7679215110748485\n"
     ]
    }
   ],
   "source": [
    "print('Mean Absolute Error on test set is', ols.mae(y_preds, y_te))\n",
    "print('Mean Squared Error on test set is', ols.mse(y_preds, y_te))\n",
    "print('Root Mean Squared Error on test set is', ols.rmse(y_preds, y_te))"
   ]
  },
  {
   "cell_type": "markdown",
   "metadata": {},
   "source": [
    "## 2. Linear Regression with Scikit-learn "
   ]
  },
  {
   "cell_type": "code",
   "execution_count": 13,
   "metadata": {},
   "outputs": [],
   "source": [
    "# import module for linear regression\n",
    "from sklearn.linear_model import LinearRegression"
   ]
  },
  {
   "cell_type": "code",
   "execution_count": 14,
   "metadata": {},
   "outputs": [],
   "source": [
    "# create a linear regression object\n",
    "lm = LinearRegression()"
   ]
  },
  {
   "cell_type": "code",
   "execution_count": 15,
   "metadata": {},
   "outputs": [
    {
     "data": {
      "text/plain": [
       "LinearRegression(copy_X=True, fit_intercept=True, n_jobs=None, normalize=False)"
      ]
     },
     "execution_count": 15,
     "metadata": {},
     "output_type": "execute_result"
    }
   ],
   "source": [
    "# fit the model using training dataset\n",
    "lm.fit(X_train,y_train)"
   ]
  },
  {
   "cell_type": "markdown",
   "metadata": {},
   "source": [
    "### Model Evaluation\n",
    "\n",
    "Let's evaluate the model by checking out it's coefficients and how we can interpret them."
   ]
  },
  {
   "cell_type": "code",
   "execution_count": 16,
   "metadata": {},
   "outputs": [
    {
     "name": "stdout",
     "output_type": "stream",
     "text": [
      "[32.90613091]\n"
     ]
    }
   ],
   "source": [
    "# print the intercept\n",
    "print(lm.intercept_)"
   ]
  },
  {
   "cell_type": "code",
   "execution_count": 17,
   "metadata": {},
   "outputs": [
    {
     "name": "stdout",
     "output_type": "stream",
     "text": [
      "[[-9.89913563e-02  4.25047578e-02  1.67390094e-02  3.06437882e+00\n",
      "  -1.56462528e+01  4.01888422e+00 -8.31558474e-04 -1.44628034e+00\n",
      "   2.67827281e-01 -1.04725485e-02 -8.88651815e-01  8.25262805e-03\n",
      "  -5.49367192e-01]]\n"
     ]
    }
   ],
   "source": [
    "print(lm.coef_)"
   ]
  },
  {
   "cell_type": "code",
   "execution_count": 18,
   "metadata": {},
   "outputs": [
    {
     "data": {
      "text/html": [
       "<div>\n",
       "<style scoped>\n",
       "    .dataframe tbody tr th:only-of-type {\n",
       "        vertical-align: middle;\n",
       "    }\n",
       "\n",
       "    .dataframe tbody tr th {\n",
       "        vertical-align: top;\n",
       "    }\n",
       "\n",
       "    .dataframe thead th {\n",
       "        text-align: right;\n",
       "    }\n",
       "</style>\n",
       "<table border=\"1\" class=\"dataframe\">\n",
       "  <thead>\n",
       "    <tr style=\"text-align: right;\">\n",
       "      <th></th>\n",
       "      <th>Coefficient</th>\n",
       "    </tr>\n",
       "  </thead>\n",
       "  <tbody>\n",
       "    <tr>\n",
       "      <td>CRIM</td>\n",
       "      <td>-0.098991</td>\n",
       "    </tr>\n",
       "    <tr>\n",
       "      <td>ZN</td>\n",
       "      <td>0.042505</td>\n",
       "    </tr>\n",
       "    <tr>\n",
       "      <td>INDUS</td>\n",
       "      <td>0.016739</td>\n",
       "    </tr>\n",
       "    <tr>\n",
       "      <td>CHAS</td>\n",
       "      <td>3.064379</td>\n",
       "    </tr>\n",
       "    <tr>\n",
       "      <td>NOX</td>\n",
       "      <td>-15.646253</td>\n",
       "    </tr>\n",
       "    <tr>\n",
       "      <td>RM</td>\n",
       "      <td>4.018884</td>\n",
       "    </tr>\n",
       "    <tr>\n",
       "      <td>AGE</td>\n",
       "      <td>-0.000832</td>\n",
       "    </tr>\n",
       "    <tr>\n",
       "      <td>DIS</td>\n",
       "      <td>-1.446280</td>\n",
       "    </tr>\n",
       "    <tr>\n",
       "      <td>RAD</td>\n",
       "      <td>0.267827</td>\n",
       "    </tr>\n",
       "    <tr>\n",
       "      <td>TAX</td>\n",
       "      <td>-0.010473</td>\n",
       "    </tr>\n",
       "    <tr>\n",
       "      <td>PTRATIO</td>\n",
       "      <td>-0.888652</td>\n",
       "    </tr>\n",
       "    <tr>\n",
       "      <td>B</td>\n",
       "      <td>0.008253</td>\n",
       "    </tr>\n",
       "    <tr>\n",
       "      <td>LSTAT</td>\n",
       "      <td>-0.549367</td>\n",
       "    </tr>\n",
       "  </tbody>\n",
       "</table>\n",
       "</div>"
      ],
      "text/plain": [
       "         Coefficient\n",
       "CRIM       -0.098991\n",
       "ZN          0.042505\n",
       "INDUS       0.016739\n",
       "CHAS        3.064379\n",
       "NOX       -15.646253\n",
       "RM          4.018884\n",
       "AGE        -0.000832\n",
       "DIS        -1.446280\n",
       "RAD         0.267827\n",
       "TAX        -0.010473\n",
       "PTRATIO    -0.888652\n",
       "B           0.008253\n",
       "LSTAT      -0.549367"
      ]
     },
     "execution_count": 18,
     "metadata": {},
     "output_type": "execute_result"
    }
   ],
   "source": [
    "# create a dataframe to evaluate coeff\n",
    "coeff_df = pd.DataFrame(data = lm.coef_.T, index = X.columns, columns=['Coefficient'])\n",
    "coeff_df"
   ]
  },
  {
   "cell_type": "markdown",
   "metadata": {},
   "source": [
    "Interpreting the coefficients:\n",
    "\n",
    "\n",
    "- Holding all other features fixed, a 1 unit increase in **CRIM** is associated with an **decrease of \\$99**.\n",
    "- Holding all other features fixed, a 1 unit increase in **ZN** is associated with an **increase of \\$43**.\n",
    "- Holding all other features fixed, a 1 unit increase in **INDUS** is associated with an **increase of \\$3064**.\n",
    "- Holding all other features fixed, a 1 unit increase in **CHAS** is associated with an **increase of \\$2234**.\n",
    "- Holding all other features fixed, a 1 unit increase in **NOX** is associated with an **decrease of \\$15,646**.\n",
    "- ..."
   ]
  },
  {
   "cell_type": "markdown",
   "metadata": {},
   "source": [
    "###  Predictions from Model\n",
    "\n",
    "$R^2$ coeff of determination score: https://en.wikipedia.org/wiki/Coefficient_of_determination.\n",
    "1 is perfect prediction and 0 means that there is no linear relationship between $X$ and $y$."
   ]
  },
  {
   "cell_type": "code",
   "execution_count": 19,
   "metadata": {},
   "outputs": [
    {
     "data": {
      "text/plain": [
       "0.703462307651588"
      ]
     },
     "execution_count": 19,
     "metadata": {},
     "output_type": "execute_result"
    }
   ],
   "source": [
    "lm.score(X_test,y_test)"
   ]
  },
  {
   "cell_type": "code",
   "execution_count": 20,
   "metadata": {},
   "outputs": [],
   "source": [
    "predictions = lm.predict(X_test)"
   ]
  },
  {
   "cell_type": "code",
   "execution_count": 21,
   "metadata": {},
   "outputs": [
    {
     "name": "stdout",
     "output_type": "stream",
     "text": [
      "        CRIM    ZN  INDUS  CHAS    NOX     RM   AGE     DIS  RAD    TAX  \\\n",
      "195  0.01381  80.0   0.46   0.0  0.422  7.875  32.0  5.6484  4.0  255.0   \n",
      "\n",
      "     PTRATIO       B  LSTAT  \n",
      "195     14.4  394.23   2.97  \n",
      "\n",
      "[40.38909533]\n",
      "MEDV    50.0\n",
      "Name: 195, dtype: float64\n"
     ]
    }
   ],
   "source": [
    "feature = X_test.iloc[[0]]\n",
    "prediction = lm.predict(feature)\n",
    "print(feature)\n",
    "print()\n",
    "print(prediction[0])\n",
    "print(y_test.iloc[0])"
   ]
  },
  {
   "cell_type": "code",
   "execution_count": 22,
   "metadata": {},
   "outputs": [
    {
     "data": {
      "text/plain": [
       "<matplotlib.collections.PathCollection at 0x7ff768c4afd0>"
      ]
     },
     "execution_count": 22,
     "metadata": {},
     "output_type": "execute_result"
    },
    {
     "data": {
      "image/png": "[encoded data removed]",
      "text/plain": [
       "<Figure size 432x288 with 1 Axes>"
      ]
     },
     "metadata": {
      "needs_background": "light"
     },
     "output_type": "display_data"
    }
   ],
   "source": [
    "plt.scatter(y_test,predictions)"
   ]
  },
  {
   "cell_type": "markdown",
   "metadata": {},
   "source": [
    "**Residual Histogram**"
   ]
  },
  {
   "cell_type": "code",
   "execution_count": 23,
   "metadata": {},
   "outputs": [
    {
     "data": {
      "text/plain": [
       "<matplotlib.axes._subplots.AxesSubplot at 0x7ff768972450>"
      ]
     },
     "execution_count": 23,
     "metadata": {},
     "output_type": "execute_result"
    },
    {
     "data": {
      "image/png": "[encoded data removed]",
      "text/plain": [
       "<Figure size 432x288 with 1 Axes>"
      ]
     },
     "metadata": {
      "needs_background": "light"
     },
     "output_type": "display_data"
    }
   ],
   "source": [
    "sns.histplot((y_test-predictions),bins=50, kde = True)"
   ]
  },
  {
   "cell_type": "markdown",
   "metadata": {},
   "source": [
    "###  Regression Evaluation Metrics\n",
    "\n",
    "\n",
    "Here are three common evaluation metrics for regression problems:\n",
    "\n",
    "**Mean Absolute Error** (MAE) is the mean of the absolute value of the errors:\n",
    "\n",
    "$$\\frac 1n\\sum_{i=1}^n|y_i-\\hat{y}_i|$$\n",
    "\n",
    "**Mean Squared Error** (MSE) is the mean of the squared errors:\n",
    "\n",
    "$$\\frac 1n\\sum_{i=1}^n(y_i-\\hat{y}_i)^2$$\n",
    "\n",
    "**Root Mean Squared Error** (RMSE) is the square root of the mean of the squared errors:\n",
    "\n",
    "$$\\sqrt{\\frac 1n\\sum_{i=1}^n(y_i-\\hat{y}_i)^2}$$"
   ]
  },
  {
   "cell_type": "code",
   "execution_count": 24,
   "metadata": {},
   "outputs": [],
   "source": [
    "from sklearn import metrics"
   ]
  },
  {
   "cell_type": "code",
   "execution_count": 25,
   "metadata": {},
   "outputs": [
    {
     "name": "stdout",
     "output_type": "stream",
     "text": [
      "MAE: 3.9994042530538882\n",
      "MSE: 33.2689185579199\n",
      "RMSE: 5.767921511074843\n"
     ]
    }
   ],
   "source": [
    "print('MAE:', metrics.mean_absolute_error(y_test, predictions))\n",
    "print('MSE:', metrics.mean_squared_error(y_test, predictions))\n",
    "print('RMSE:', np.sqrt(metrics.mean_squared_error(y_test, predictions)))"
   ]
  },
  {
   "cell_type": "markdown",
   "metadata": {},
   "source": [
    "## LASSO Regression\n",
    "\n",
    "In LASSO, we need to choose the hyperparameter ``alpha`` for controlling the stength of regularization."
   ]
  },
  {
   "cell_type": "code",
   "execution_count": 26,
   "metadata": {},
   "outputs": [
    {
     "data": {
      "text/plain": [
       "0.6848138868883207"
      ]
     },
     "execution_count": 26,
     "metadata": {},
     "output_type": "execute_result"
    }
   ],
   "source": [
    "from sklearn.linear_model import Lasso\n",
    "\n",
    "lasso = Lasso(alpha=0.5) # alpha is the regularziation parameter\n",
    "#\n",
    "# Fit the Lasso model\n",
    "#\n",
    "lasso.fit(X_train, y_train)\n",
    "#\n",
    "# Create the model score\n",
    "#\n",
    "lasso.score(X_test, y_test)"
   ]
  },
  {
   "cell_type": "code",
   "execution_count": 27,
   "metadata": {},
   "outputs": [
    {
     "name": "stdout",
     "output_type": "stream",
     "text": [
      "\n",
      "38.36244519590213\n",
      "MEDV    50.0\n",
      "Name: 195, dtype: float64\n"
     ]
    }
   ],
   "source": [
    "prediction = lasso.predict(feature)\n",
    "print()\n",
    "print(prediction[0])\n",
    "print(y_test.iloc[0])"
   ]
  },
  {
   "cell_type": "markdown",
   "metadata": {},
   "source": [
    "Once the model is fit, one can look into the coefficients by printing ``lasso.coef_`` command. It will be interesting to find that some of the coefficients value is found to be zero."
   ]
  },
  {
   "cell_type": "code",
   "execution_count": 28,
   "metadata": {},
   "outputs": [
    {
     "data": {
      "text/html": [
       "<div>\n",
       "<style scoped>\n",
       "    .dataframe tbody tr th:only-of-type {\n",
       "        vertical-align: middle;\n",
       "    }\n",
       "\n",
       "    .dataframe tbody tr th {\n",
       "        vertical-align: top;\n",
       "    }\n",
       "\n",
       "    .dataframe thead th {\n",
       "        text-align: right;\n",
       "    }\n",
       "</style>\n",
       "<table border=\"1\" class=\"dataframe\">\n",
       "  <thead>\n",
       "    <tr style=\"text-align: right;\">\n",
       "      <th></th>\n",
       "      <th>Coefficient</th>\n",
       "    </tr>\n",
       "  </thead>\n",
       "  <tbody>\n",
       "    <tr>\n",
       "      <td>CRIM</td>\n",
       "      <td>-0.073850</td>\n",
       "    </tr>\n",
       "    <tr>\n",
       "      <td>ZN</td>\n",
       "      <td>0.043910</td>\n",
       "    </tr>\n",
       "    <tr>\n",
       "      <td>INDUS</td>\n",
       "      <td>-0.000000</td>\n",
       "    </tr>\n",
       "    <tr>\n",
       "      <td>CHAS</td>\n",
       "      <td>0.000000</td>\n",
       "    </tr>\n",
       "    <tr>\n",
       "      <td>NOX</td>\n",
       "      <td>-0.000000</td>\n",
       "    </tr>\n",
       "    <tr>\n",
       "      <td>RM</td>\n",
       "      <td>2.562975</td>\n",
       "    </tr>\n",
       "    <tr>\n",
       "      <td>AGE</td>\n",
       "      <td>0.005324</td>\n",
       "    </tr>\n",
       "    <tr>\n",
       "      <td>DIS</td>\n",
       "      <td>-0.920034</td>\n",
       "    </tr>\n",
       "    <tr>\n",
       "      <td>RAD</td>\n",
       "      <td>0.249899</td>\n",
       "    </tr>\n",
       "    <tr>\n",
       "      <td>TAX</td>\n",
       "      <td>-0.013307</td>\n",
       "    </tr>\n",
       "    <tr>\n",
       "      <td>PTRATIO</td>\n",
       "      <td>-0.721026</td>\n",
       "    </tr>\n",
       "    <tr>\n",
       "      <td>B</td>\n",
       "      <td>0.008570</td>\n",
       "    </tr>\n",
       "    <tr>\n",
       "      <td>LSTAT</td>\n",
       "      <td>-0.687938</td>\n",
       "    </tr>\n",
       "  </tbody>\n",
       "</table>\n",
       "</div>"
      ],
      "text/plain": [
       "         Coefficient\n",
       "CRIM       -0.073850\n",
       "ZN          0.043910\n",
       "INDUS      -0.000000\n",
       "CHAS        0.000000\n",
       "NOX        -0.000000\n",
       "RM          2.562975\n",
       "AGE         0.005324\n",
       "DIS        -0.920034\n",
       "RAD         0.249899\n",
       "TAX        -0.013307\n",
       "PTRATIO    -0.721026\n",
       "B           0.008570\n",
       "LSTAT      -0.687938"
      ]
     },
     "execution_count": 28,
     "metadata": {},
     "output_type": "execute_result"
    }
   ],
   "source": [
    "coeff_df = pd.DataFrame(data = lasso.coef_.T, index = X.columns, columns=['Coefficient'])\n",
    "coeff_df"
   ]
  },
  {
   "cell_type": "markdown",
   "metadata": {},
   "source": [
    "### LASSO Regression Crossvalidation \n",
    "\n",
    "We could use cross-validation technique with LASSO regression. \n",
    "\n",
    "* ``sklearn.linear_model.LassoCV`` is used as Lasso regression cross validation implementation.\n",
    "\n",
    "* ``LassoCV`` takes one of the parameter input as ``cv`` which represents number of folds to be considered while applying cross-validation. In the example below, the value of ``cv`` is set to 5.\n",
    "\n",
    "* Entire dataset is used for training and testing purpose. This is unlike the 2-way or 3-way holdout method where the model is trained and tested on different data split.\n",
    "\n",
    "* The model performance of ``LassoCV`` model is found to be greater than the Lasso regression algorithm.\n"
   ]
  },
  {
   "cell_type": "code",
   "execution_count": 29,
   "metadata": {},
   "outputs": [
    {
     "data": {
      "text/plain": [
       "0.7024437179872696"
      ]
     },
     "execution_count": 29,
     "metadata": {},
     "output_type": "execute_result"
    }
   ],
   "source": [
    "from sklearn.linear_model import LassoCV\n",
    "\n",
    "# Create an instance of Lasso Regression implementation\n",
    "#\n",
    "lasso_cv = LassoCV(cv=5)\n",
    "#\n",
    "# Fit the Lasso model\n",
    "#\n",
    "lasso_cv.fit(np.array(X), np.array(y).ravel())\n",
    "#\n",
    "# Create the model score\n",
    "#\n",
    "lasso_cv.score(X, y)"
   ]
  },
  {
   "cell_type": "code",
   "execution_count": 30,
   "metadata": {},
   "outputs": [
    {
     "data": {
      "text/html": [
       "<div>\n",
       "<style scoped>\n",
       "    .dataframe tbody tr th:only-of-type {\n",
       "        vertical-align: middle;\n",
       "    }\n",
       "\n",
       "    .dataframe tbody tr th {\n",
       "        vertical-align: top;\n",
       "    }\n",
       "\n",
       "    .dataframe thead th {\n",
       "        text-align: right;\n",
       "    }\n",
       "</style>\n",
       "<table border=\"1\" class=\"dataframe\">\n",
       "  <thead>\n",
       "    <tr style=\"text-align: right;\">\n",
       "      <th></th>\n",
       "      <th>Coefficient</th>\n",
       "    </tr>\n",
       "  </thead>\n",
       "  <tbody>\n",
       "    <tr>\n",
       "      <td>CRIM</td>\n",
       "      <td>-0.074266</td>\n",
       "    </tr>\n",
       "    <tr>\n",
       "      <td>ZN</td>\n",
       "      <td>0.049454</td>\n",
       "    </tr>\n",
       "    <tr>\n",
       "      <td>INDUS</td>\n",
       "      <td>-0.000000</td>\n",
       "    </tr>\n",
       "    <tr>\n",
       "      <td>CHAS</td>\n",
       "      <td>0.000000</td>\n",
       "    </tr>\n",
       "    <tr>\n",
       "      <td>NOX</td>\n",
       "      <td>-0.000000</td>\n",
       "    </tr>\n",
       "    <tr>\n",
       "      <td>RM</td>\n",
       "      <td>1.804385</td>\n",
       "    </tr>\n",
       "    <tr>\n",
       "      <td>AGE</td>\n",
       "      <td>0.011333</td>\n",
       "    </tr>\n",
       "    <tr>\n",
       "      <td>DIS</td>\n",
       "      <td>-0.813244</td>\n",
       "    </tr>\n",
       "    <tr>\n",
       "      <td>RAD</td>\n",
       "      <td>0.272284</td>\n",
       "    </tr>\n",
       "    <tr>\n",
       "      <td>TAX</td>\n",
       "      <td>-0.015425</td>\n",
       "    </tr>\n",
       "    <tr>\n",
       "      <td>PTRATIO</td>\n",
       "      <td>-0.742872</td>\n",
       "    </tr>\n",
       "    <tr>\n",
       "      <td>B</td>\n",
       "      <td>0.008926</td>\n",
       "    </tr>\n",
       "    <tr>\n",
       "      <td>LSTAT</td>\n",
       "      <td>-0.703654</td>\n",
       "    </tr>\n",
       "  </tbody>\n",
       "</table>\n",
       "</div>"
      ],
      "text/plain": [
       "         Coefficient\n",
       "CRIM       -0.074266\n",
       "ZN          0.049454\n",
       "INDUS      -0.000000\n",
       "CHAS        0.000000\n",
       "NOX        -0.000000\n",
       "RM          1.804385\n",
       "AGE         0.011333\n",
       "DIS        -0.813244\n",
       "RAD         0.272284\n",
       "TAX        -0.015425\n",
       "PTRATIO    -0.742872\n",
       "B           0.008926\n",
       "LSTAT      -0.703654"
      ]
     },
     "execution_count": 30,
     "metadata": {},
     "output_type": "execute_result"
    }
   ],
   "source": [
    "coeff_df = pd.DataFrame(data = lasso_cv.coef_.T, index = X.columns, columns=['Coefficient'])\n",
    "coeff_df"
   ]
  },
  {
   "cell_type": "markdown",
   "metadata": {},
   "source": [
    "## Exercise\n",
    "Modify the Python code for ``LinearReg`` class so that it solves ridge regression problems."
   ]
  },
  {
   "cell_type": "code",
   "execution_count": null,
   "metadata": {},
   "outputs": [],
   "source": []
  }
 ],
 "metadata": {
  "kernelspec": {
   "display_name": "Python 3",
   "language": "python",
   "name": "python3"
  },
  "language_info": {
   "codemirror_mode": {
    "name": "ipython",
    "version": 3
   },
   "file_extension": ".py",
   "mimetype": "text/x-python",
   "name": "python",
   "nbconvert_exporter": "python",
   "pygments_lexer": "ipython3",
   "version": "3.7.4"
  }
 },
 "nbformat": 4,
 "nbformat_minor": 1
}
